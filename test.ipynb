{
 "cells": [
  {
   "cell_type": "code",
   "execution_count": 1,
   "id": "a96cc7f7",
   "metadata": {},
   "outputs": [
    {
     "name": "stdout",
     "output_type": "stream",
     "text": [
      "Warp 1.6.2 initialized:\n",
      "   CUDA Toolkit 12.8, Driver 12.2\n",
      "   Devices:\n",
      "     \"cpu\"      : \"x86_64\"\n",
      "     \"cuda:0\"   : \"NVIDIA A100-SXM4-80GB\" (79 GiB, sm_80, mempool enabled)\n",
      "     \"cuda:1\"   : \"NVIDIA A100-SXM4-80GB\" (79 GiB, sm_80, mempool enabled)\n",
      "     \"cuda:2\"   : \"NVIDIA A100-SXM4-80GB\" (79 GiB, sm_80, mempool enabled)\n",
      "     \"cuda:3\"   : \"NVIDIA A100-SXM4-80GB\" (79 GiB, sm_80, mempool enabled)\n",
      "   CUDA peer access:\n",
      "     Supported fully (all-directional)\n",
      "   Kernel cache:\n",
      "     /home/ubuntu/.cache/warp/1.6.2\n"
     ]
    }
   ],
   "source": [
    "from figconvnet.figconvunet import FIGConvUNet\n",
    "from figconvnet.geometries import GridFeaturesMemoryFormat\n",
    "import torch\n",
    "import warp as wp\n"
   ]
  },
  {
   "cell_type": "code",
   "execution_count": 2,
   "id": "f051206f",
   "metadata": {},
   "outputs": [],
   "source": [
    "device = \"cuda:2\"\n",
    "torch_device = torch.device(device)\n",
    "gpu_index = torch_device.index\n",
    "torch.cuda.set_device(gpu_index)"
   ]
  },
  {
   "cell_type": "code",
   "execution_count": 3,
   "id": "00644ef2",
   "metadata": {},
   "outputs": [
    {
     "name": "stdout",
     "output_type": "stream",
     "text": [
      "cuda:2\n",
      "cuda:2\n",
      "2\n"
     ]
    }
   ],
   "source": [
    "print(device)\n",
    "print(torch_device)\n",
    "print(gpu_index)"
   ]
  },
  {
   "cell_type": "code",
   "execution_count": 4,
   "id": "01a034fa",
   "metadata": {},
   "outputs": [
    {
     "name": "stderr",
     "output_type": "stream",
     "text": [
      "/data/envs/physicsnemo/lib/python3.11/site-packages/torch/functional.py:539: UserWarning: torch.meshgrid: in an upcoming release, it will be required to pass the indexing argument. (Triggered internally at /pytorch/aten/src/ATen/native/TensorShape.cpp:3637.)\n",
      "  return _VF.meshgrid(tensors, **kwargs)  # type: ignore[attr-defined]\n"
     ]
    }
   ],
   "source": [
    "model = FIGConvUNet(\n",
    "        in_channels = 2,\n",
    "        out_channels = 1,\n",
    "        kernel_size = 3, \n",
    "        hidden_channels = [8, 16, 32],\n",
    "        mlp_channels = [16, 16],\n",
    "        num_levels = 2,\n",
    "        resolution_memory_format_pairs = [\n",
    "            (GridFeaturesMemoryFormat.b_xc_y_z, (2, 16, 16)),   \n",
    "            (GridFeaturesMemoryFormat.b_yc_x_z, (16, 2, 16)),\n",
    "            (GridFeaturesMemoryFormat.b_zc_x_y, (16, 16, 2)),\n",
    "        ],\n",
    "        aabb_max = [1.0, 1.0, 1.0],\n",
    "        aabb_min = [0.0, 0.0, 0.0] \n",
    "        ).to(torch_device)"
   ]
  },
  {
   "cell_type": "code",
   "execution_count": 5,
   "id": "1a30aa5e",
   "metadata": {},
   "outputs": [],
   "source": [
    "vertices = torch.rand(1, 100, 3, device=torch_device)\n",
    "features = torch.rand(1, 100, 2, device=torch_device)"
   ]
  },
  {
   "cell_type": "code",
   "execution_count": 6,
   "id": "0b36d854",
   "metadata": {},
   "outputs": [
    {
     "name": "stdout",
     "output_type": "stream",
     "text": [
      "Module figconvnet.warp_neighbor_search 64995f3 load on device 'cuda:2' took 2.12 ms  (cached)\n"
     ]
    }
   ],
   "source": [
    "warp_dev = wp.get_cuda_device(gpu_index)\n",
    "\n",
    "with wp.ScopedDevice(warp_dev):\n",
    "    pred, _ = model(vertices, features)"
   ]
  },
  {
   "cell_type": "code",
   "execution_count": 7,
   "id": "7fcaf09b",
   "metadata": {},
   "outputs": [
    {
     "name": "stdout",
     "output_type": "stream",
     "text": [
      "torch.Size([1, 100, 1])\n"
     ]
    }
   ],
   "source": [
    "print(pred.shape)"
   ]
  },
  {
   "cell_type": "code",
   "execution_count": null,
   "id": "1e171450",
   "metadata": {},
   "outputs": [],
   "source": []
  }
 ],
 "metadata": {
  "kernelspec": {
   "display_name": "Python 3",
   "language": "python",
   "name": "python3"
  },
  "language_info": {
   "codemirror_mode": {
    "name": "ipython",
    "version": 3
   },
   "file_extension": ".py",
   "mimetype": "text/x-python",
   "name": "python",
   "nbconvert_exporter": "python",
   "pygments_lexer": "ipython3",
   "version": "3.11.10"
  }
 },
 "nbformat": 4,
 "nbformat_minor": 5
}
